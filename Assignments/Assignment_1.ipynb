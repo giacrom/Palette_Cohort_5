{
 "cells": [
  {
   "cell_type": "markdown",
   "metadata": {},
   "source": [
    "**Please follow the instructions. Do not add new cell! Write your code in designated areas.**"
   ]
  },
  {
   "cell_type": "code",
   "execution_count": 9,
   "metadata": {},
   "outputs": [
    {
     "name": "stdout",
     "output_type": "stream",
     "text": [
      "Assignment 1 & 2: Solutions by John\n",
      "Local Time: 2023-06-26 16:06:05\n",
      "Computer ID: Ruhids-MBP.gateway.sasktel.net\n"
     ]
    }
   ],
   "source": [
    "import datetime\n",
    "import socket\n",
    "\n",
    "# Get local time\n",
    "local_time = datetime.datetime.now().strftime(\"%Y-%m-%d %H:%M:%S\")\n",
    "\n",
    "# Get computer ID or hostname\n",
    "computer_id = socket.gethostname()\n",
    "\n",
    "# Print output with local time and computer ID\n",
    "print('Assignment 1: Solutions by John') # Please change your name here\n",
    "print('Local Time:', local_time)\n",
    "print('Computer ID:', computer_id)"
   ]
  },
  {
   "cell_type": "markdown",
   "metadata": {},
   "source": [
    "**Note that you have to run this code in your local engine to pass the assignments**"
   ]
  },
  {
   "cell_type": "markdown",
   "metadata": {},
   "source": [
    "# Assignment 1"
   ]
  },
  {
   "cell_type": "markdown",
   "metadata": {},
   "source": [
    "## Exercise 1: String Manipulation"
   ]
  },
  {
   "cell_type": "markdown",
   "metadata": {},
   "source": [
    "Develop a function that accepts a string parameter indicating a crop name and gives back the crop name in capital letters. Hints: str, upper(), def"
   ]
  },
  {
   "cell_type": "code",
   "execution_count": 7,
   "metadata": {},
   "outputs": [
    {
     "data": {
      "text/plain": [
       "'CANOLA'"
      ]
     },
     "execution_count": 7,
     "metadata": {},
     "output_type": "execute_result"
    }
   ],
   "source": [
    "## Your code here down\n",
    "c_name='canola'\n",
    "def crop_upper(crop_name):\n",
    "    crop_name = str(crop_name)\n",
    "    return crop_name.upper()\n",
    "\n",
    "crop_upper(c_name)\n",
    "## Your code here up"
   ]
  },
  {
   "cell_type": "markdown",
   "metadata": {},
   "source": [
    "## Exercise 2: Crop Count"
   ]
  },
  {
   "cell_type": "markdown",
   "metadata": {},
   "source": [
    "Create a function that receives a list of crop names (lentil, barley, canola, spring wheat, durum wheat, oats, alfalfa) and outputs the total number of crops. Hints: list, length, def."
   ]
  },
  {
   "cell_type": "code",
   "execution_count": 10,
   "metadata": {},
   "outputs": [
    {
     "data": {
      "text/plain": [
       "7"
      ]
     },
     "execution_count": 10,
     "metadata": {},
     "output_type": "execute_result"
    }
   ],
   "source": [
    "## Your code here down\n",
    "c_list = ['lentil', 'barley', 'canola', 'spring wheat','durum wheat', 'oats', 'alfalfa']\n",
    "def crop_count(crop_list):\n",
    "    return len(crop_list)\n",
    "\n",
    "crop_count(c_list)\n",
    "\n",
    "## Your code here up"
   ]
  },
  {
   "cell_type": "markdown",
   "metadata": {},
   "source": [
    "## Exercise 3: Temperature Conversion"
   ]
  },
  {
   "cell_type": "markdown",
   "metadata": {},
   "source": [
    "Create a function that takes a temperature in Celsius and converts it to Fahrenheit. Return the converted temperature. Keys:def, find converter."
   ]
  },
  {
   "cell_type": "code",
   "execution_count": 15,
   "metadata": {},
   "outputs": [
    {
     "data": {
      "text/plain": [
       "101.48"
      ]
     },
     "execution_count": 15,
     "metadata": {},
     "output_type": "execute_result"
    }
   ],
   "source": [
    "## Your code here down\n",
    "temp_celsius = 38.6\n",
    "\n",
    "def celsius_to_fahrenheir(temp):\n",
    "    temp = float(temp)\n",
    "    f_temp = (temp*1.8) + 32\n",
    "    return f_temp\n",
    "\n",
    "celsius_to_fahrenheir(temp_celsius)\n",
    "\n",
    "## Your code here up"
   ]
  },
  {
   "cell_type": "markdown",
   "metadata": {},
   "source": [
    "## Exercise 4: Crop Harvest"
   ]
  },
  {
   "cell_type": "markdown",
   "metadata": {},
   "source": [
    "Create a function that takes the yield of canola crop (in bushels) and returns a string indicating whether it's a high, moderate, or low yield. Keys: strings, if-else, print()"
   ]
  },
  {
   "cell_type": "code",
   "execution_count": 26,
   "metadata": {},
   "outputs": [
    {
     "data": {
      "text/plain": [
       "'Yield is moderate'"
      ]
     },
     "execution_count": 26,
     "metadata": {},
     "output_type": "execute_result"
    }
   ],
   "source": [
    "## Your code here down\n",
    "\n",
    "yield_canola = 2500\n",
    "def yield_rating(bushels):\n",
    "#     limit for moderate yield set to 2000 bushels\n",
    "    mod_yield=2000\n",
    "#     limit for high yield set to 6000 bushels\n",
    "    high_yield = 6000\n",
    "    \n",
    "    if(bushels <= mod_yield):\n",
    "        return \"Yield is low\"\n",
    "    elif (bushels <= high_yield):\n",
    "        return \"Yield is moderate\"\n",
    "    else:\n",
    "        return \"Yield is high\"\n",
    "    \n",
    "yield_rating(yield_canola)\n",
    "## Your code here up "
   ]
  },
  {
   "cell_type": "markdown",
   "metadata": {},
   "source": [
    "## Exercise 5: Crop Average"
   ]
  },
  {
   "cell_type": "markdown",
   "metadata": {},
   "source": [
    "Create a function that takes a list of crop yields (spring wheat) and returns the average yield. Keys: list, average() or arithmetic average."
   ]
  },
  {
   "cell_type": "code",
   "execution_count": 58,
   "metadata": {},
   "outputs": [
    {
     "data": {
      "text/plain": [
       "76.5"
      ]
     },
     "execution_count": 58,
     "metadata": {},
     "output_type": "execute_result"
    }
   ],
   "source": [
    "## Your code here down\n",
    "c_list_yield = [32,11,323,12,39,42]\n",
    "def average_yield(avg_list):\n",
    "#     ensure only numbers are in list\n",
    "    sum_yield=0\n",
    "    for i in avg_list:\n",
    "        sum_yield += i\n",
    "    average_yield = sum_yield/len(avg_list)\n",
    "    \n",
    "\n",
    "    return ((average_yield))\n",
    "\n",
    "average_yield(c_list_yield)\n",
    "\n",
    "## Your code here up"
   ]
  },
  {
   "cell_type": "markdown",
   "metadata": {},
   "source": [
    "## Exercise 6: Crop Recommendation"
   ]
  },
  {
   "cell_type": "markdown",
   "metadata": {},
   "source": [
    "Create a function that takes the type of soil (brown, dark brown, black) as a parameter and returns a recommended crop (lentil, canola, oats) for that soil type. Keys: dict, def"
   ]
  },
  {
   "cell_type": "code",
   "execution_count": 52,
   "metadata": {},
   "outputs": [
    {
     "data": {
      "text/plain": [
       "'oats'"
      ]
     },
     "execution_count": 52,
     "metadata": {},
     "output_type": "execute_result"
    }
   ],
   "source": [
    "## Your code here down\n",
    "s_type ='Black' \n",
    "def crop_reco(soil_type):\n",
    "#     sanitize input\n",
    "    soil_type = soil_type.strip().lower()\n",
    "#     given soil dictionary\n",
    "    soil_dict = {'brown':'lentil','dark brown':'canola','black':'oats'}\n",
    "#     create list of valid soil types\n",
    "    keys_list=(list(soil_dict.keys()))\n",
    "#     make given sure soil type is valid, if so return recommendation\n",
    "    if any(soil_type in s for s in keys_list):\n",
    "        return soil_dict[soil_type]\n",
    "    else:\n",
    "        return \"Invalid Soil Type\"\n",
    "    \n",
    "crop_reco(s_type)\n",
    "\n",
    "## Your code here up"
   ]
  },
  {
   "cell_type": "markdown",
   "metadata": {},
   "source": [
    "## Exercise 7: Crop Rotation"
   ]
  },
  {
   "cell_type": "markdown",
   "metadata": {},
   "source": [
    "Create a function that takes a list of crop names (lentil, barly, canola, spring wheat, durum wheat, oats) and rotates the crops by moving the last crop to the beginning of the list. Keys: list and list index, def."
   ]
  },
  {
   "cell_type": "code",
   "execution_count": 60,
   "metadata": {},
   "outputs": [
    {
     "data": {
      "text/plain": [
       "['alfalfa',\n",
       " 'lentil',\n",
       " 'barley',\n",
       " 'canola',\n",
       " 'spring wheat',\n",
       " 'durum wheat',\n",
       " 'oats']"
      ]
     },
     "execution_count": 60,
     "metadata": {},
     "output_type": "execute_result"
    }
   ],
   "source": [
    "## Your code here down\n",
    "c_list = ['lentil', 'barley', 'canola', 'spring wheat','durum wheat', 'oats', 'alfalfa']\n",
    "def rotate_crop(crop_list):\n",
    "    crop_list_rotated = crop_list[-1:]+crop_list[:-1]\n",
    "    return crop_list_rotated\n",
    "\n",
    "\n",
    "rotate_crop(c_list)\n",
    "## Your code here up"
   ]
  },
  {
   "cell_type": "markdown",
   "metadata": {},
   "source": [
    "# Exercise 8: Rainfall Analysis"
   ]
  },
  {
   "cell_type": "markdown",
   "metadata": {},
   "source": [
    "Create a function that takes a list of rainfall measurements (daily mm in a week) and returns the maximum and minimum rainfall values. Keys: min(), max(), lists, def"
   ]
  },
  {
   "cell_type": "code",
   "execution_count": 69,
   "metadata": {},
   "outputs": [
    {
     "name": "stdout",
     "output_type": "stream",
     "text": [
      "The minimum rainfall value is:  122 MM\n",
      " The maximum rainfall value is:  900 MM\n"
     ]
    }
   ],
   "source": [
    "## Your code here down\n",
    "rain_mm = [322,131,300,900,122,450]\n",
    "# rain_mm[1:]\n",
    "\n",
    "def rain_minmax(rainfall):\n",
    "    max_mm = rainfall[0]\n",
    "    min_mm = rainfall[0]\n",
    "    for i in rainfall[1:]:\n",
    "        if i<min_mm:\n",
    "            min_mm = i\n",
    "        elif i>max_mm:\n",
    "            max_mm = i\n",
    "    return print(\"The minimum rainfall value is: \",min_mm,\"MM\\n\",\"The maximum rainfall value is: \",max_mm,\"MM\")\n",
    "\n",
    "rain_minmax(rain_mm)\n",
    "\n",
    "## Your code here up"
   ]
  },
  {
   "cell_type": "markdown",
   "metadata": {},
   "source": [
    "## Exercise 9: Pest Control"
   ]
  },
  {
   "cell_type": "markdown",
   "metadata": {},
   "source": [
    "Create a function that takes the count of pests detected in a field and returns a recommendation for pest control based on the count. Please search for pests and pest control measures. Keys: if-else statement, def"
   ]
  },
  {
   "cell_type": "code",
   "execution_count": 73,
   "metadata": {},
   "outputs": [
    {
     "data": {
      "text/plain": [
       "'Recommended Control: Pesticides'"
      ]
     },
     "execution_count": 73,
     "metadata": {},
     "output_type": "execute_result"
    }
   ],
   "source": [
    "## Your code here down\n",
    "pest_count = 2222\n",
    "\n",
    "def pest_control(pest_count):\n",
    "    trap_max = 1000 # trap max range\n",
    "    pred_max= 500 # predator max range\n",
    "    pest_max = 3000# pesticide max range\n",
    "   # else use crop rotation\n",
    "\n",
    "\n",
    "    if pest_count < pred_max:\n",
    "        return \"Recommended Control: Pest Predators\"\n",
    "    elif pest_count < trap_max:\n",
    "        return \"Recommended Control: Pest Traps\"\n",
    "    elif pest_count < pest_max:\n",
    "        return \"Recommended Control: Pesticides\"\n",
    "    else:\n",
    "        return \"Recommended Control: Crop Rotation\"\n",
    "\n",
    "\n",
    "pest_control(pest_count)\n",
    "    \n",
    "    \n",
    "    \n",
    "\n",
    "\n",
    "## Your code here up"
   ]
  },
  {
   "cell_type": "markdown",
   "metadata": {},
   "source": [
    "## Exercise 10: Weed Control"
   ]
  },
  {
   "cell_type": "markdown",
   "metadata": {},
   "source": [
    "Create a function that takes a list of weed names (search online) and suggests appropriate herbicides for weed control. Keys: For Loops and dictionary."
   ]
  },
  {
   "cell_type": "code",
   "execution_count": 82,
   "metadata": {},
   "outputs": [
    {
     "name": "stdout",
     "output_type": "stream",
     "text": [
      "{'Common Ragweed': 'Glyphosate', 'Waterhemp': 'Dicamba', 'Field Bindweed': '2,4-D', 'Wild Oats': 'Diclofop-methyl', 'Wiregrass': 'Imazapyr'}\n",
      "For  Common Ragweed  use the  Glyphosate  herbicide\n",
      "For  Waterhemp  use the  Dicamba  herbicide\n",
      "For  Field Bindweed  use the  2,4-D  herbicide\n",
      "For  Wild Oats  use the  Diclofop-methyl  herbicide\n",
      "For  Wiregrass  use the  Imazapyr  herbicide\n"
     ]
    }
   ],
   "source": [
    "## Your code here down\n",
    "weed_dict = {\"Common Ragweed\":\"Glyphosate\",\"Waterhemp\":\"Dicamba\",\"Field Bindweed\":\"2,4-D\",\n",
    "             \"Wild Oats\":\"Diclofop-methyl\",\"Wiregrass\":\"Imazapyr\"}\n",
    "\n",
    "def weed_herbicide(weeds):\n",
    "    for i in weed_dict.keys():\n",
    "         print(\"For \",i,\" use the \",weeds[i],\" herbicide\")\n",
    "\n",
    "weed_herbicide(weed_dict)\n",
    "\n",
    "\n",
    "## Your code here up"
   ]
  },
  {
   "cell_type": "code",
   "execution_count": null,
   "metadata": {},
   "outputs": [],
   "source": []
  }
 ],
 "metadata": {
  "kernelspec": {
   "display_name": "Python 3 (ipykernel)",
   "language": "python",
   "name": "python3"
  },
  "language_info": {
   "codemirror_mode": {
    "name": "ipython",
    "version": 3
   },
   "file_extension": ".py",
   "mimetype": "text/x-python",
   "name": "python",
   "nbconvert_exporter": "python",
   "pygments_lexer": "ipython3",
   "version": "3.11.5"
  }
 },
 "nbformat": 4,
 "nbformat_minor": 2
}
